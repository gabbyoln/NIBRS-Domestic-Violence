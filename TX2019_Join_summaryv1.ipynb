{
 "cells": [
  {
   "cell_type": "markdown",
   "metadata": {},
   "source": [
    "<!-- Notes from meeting: \n",
    "\n",
    "actual arrest rate vs reported arrest rate (what we have)\n",
    " - some agencies not NIBRS-participating \n",
    "we do not not the police involvement rate \n",
    "\n",
    "think about how the ratios vary with different elements (size of reporting department)\n",
    "\n",
    "if you look at reporting agency:\n",
    "\n",
    "look at what percent of IPV incidents/total number of incidents reporting by agency and\n",
    "do we have reason to believe this percent would change by agency (put the former race ratios in context)\n",
    "\n",
    "theory: arrest rate by race (conditioned on offense type) should not vary with reporting department \n",
    "\n",
    "in presentation: emphasize - I have a code base, and I have a lot of flexibility in the sorts of questions I answer (i.e. in outlook talk about how my code base supports all the questions I could further ask)\n",
    "\n",
    "1. I have a way to process the actual NIBRS data without ICPSR (can make tables akin to ICPSR or can make customizable tables)\n",
    "\n",
    "2. can talk about some of the trade offs/decisions I had to make it creating the subset/filter\n",
    "\n",
    "3. talk about performance of this framework: can talk about run-times/storage\n",
    "\n",
    "4. give examples of the different types of analysis I can produce can run EDA about how reporting agencies differ, about how arrest rates differ\n",
    "\n",
    "arc: I want to work with primary data and make my own decisions, how difficult is that? I have a result for this.  -->"
   ]
  },
  {
   "cell_type": "markdown",
   "metadata": {},
   "source": [
    "<!-- This is quite a long notebook, simply because I utilized is as a journal and it shows many details of my thought process. I'm working on generating a more succinct version for documentation.  -->"
   ]
  },
  {
   "cell_type": "code",
   "execution_count": 1,
   "metadata": {},
   "outputs": [],
   "source": [
    "import pandas as pd\n",
    "import numpy as np\n",
    "import matplotlib.pyplot as plt\n",
    "import time\n",
    "import math\n",
    "from random import sample, seed\n",
    "pd.options.mode.chained_assignment = None  # default='warn'"
   ]
  },
  {
   "cell_type": "code",
   "execution_count": 2,
   "metadata": {},
   "outputs": [],
   "source": [
    "global_start_time = time.time()"
   ]
  },
  {
   "cell_type": "code",
   "execution_count": 4,
   "metadata": {},
   "outputs": [],
   "source": [
    "## plot style options\n",
    "from matplotlib import cycler\n",
    "IPython_default = plt.rcParams.copy()\n",
    "axisgrey = '#666565'\n",
    "axisgrey2 = '#383838'\n",
    "mycolors = ['#7a5195','#d04f89','#ff6959','#ffa600', '#228495','#00a17f','#83b138','#ffa600']\n",
    "#mycolors = ['#7533bd', '#07ada7', '#de7ad4', '#d94e7a','#7ee6b7', '#66c464','#4287f5', '#b39bc9']\n",
    "colors = cycler('color', mycolors)\n",
    "plt.rc('axes', prop_cycle=colors, labelsize = 18, labelpad = 15, edgecolor = axisgrey )\n",
    "plt.rcParams['xtick.major.size'] = 6\n",
    "plt.rcParams['ytick.major.size'] = 6\n",
    "plt.rcParams['xtick.minor.size'] = 3\n",
    "plt.rcParams['ytick.minor.size'] = 3\n",
    "plt.rcParams['ytick.color'] = axisgrey2\n",
    "plt.rcParams['xtick.color'] = axisgrey2\n",
    "plt.rcParams['figure.figsize'] = [8,5]\n",
    "plt.rcParams['legend.framealpha'] = 0\n",
    "plt.rcParams['legend.fontsize'] = 15\n",
    "plt.rcParams['xtick.minor.visible'] = True\n",
    "plt.rcParams['ytick.minor.visible'] = True\n",
    "plt.rc('xtick', labelsize = 14)\n",
    "plt.rc('ytick', labelsize = 14)\n",
    "#plt.rc('font', family = 'DejaVu Sans')\n",
    "#plt.rcParams.keys()"
   ]
  },
  {
   "cell_type": "code",
   "execution_count": 5,
   "metadata": {},
   "outputs": [],
   "source": [
    "## makeshift progress bar\n",
    "def printprogress(i, n, start_time, step = 10):\n",
    "    t = time.time() - start_time\n",
    "    if i == n-1:\n",
    "        print(\"100 %% -- %d minutes %f seconds\"%(math.floor(t/60),t%60))\n",
    "    if (i<(n-1)-n%step) & (i%math.floor(n/step) == 0):\n",
    "        print(\"%d %% -- %d minutes %f seconds\"%((i+1)/math.floor((n-1)/step)*step, math.floor(t/60),t%60))"
   ]
  },
  {
   "cell_type": "code",
   "execution_count": 6,
   "metadata": {},
   "outputs": [],
   "source": [
    "folder = \"TX-2019/TX/\" ## location of data tables"
   ]
  },
  {
   "cell_type": "markdown",
   "metadata": {},
   "source": [
    "\n",
    "## Reporting agencies\n",
    "\n",
    "Load data table: *agencies.csv* - contains information about the agencies (e.g. police departments) that reported the data in TX2019"
   ]
  },
  {
   "cell_type": "code",
   "execution_count": 7,
   "metadata": {},
   "outputs": [],
   "source": [
    "agencies = pd.read_csv(folder + \"agencies.csv\")"
   ]
  },
  {
   "cell_type": "markdown",
   "metadata": {},
   "source": [
    "Below I generate a **new variable** `NUMINC` for each unique `AGENCY_ID` the holds the count of the number of incidents reported by that agency. Examples of how `NUMINC` can be used to compare agencies by frequency of reporting are shown below. "
   ]
  },
  {
   "cell_type": "code",
   "execution_count": 17,
   "metadata": {},
   "outputs": [],
   "source": [
    "inc_counts = ag_incident[\"AGENCY_ID\"].value_counts() # counts the number of incidents associated with an agency ID\n",
    "inc = pd.DataFrame(inc_counts.values, index = inc_counts.index, columns = [\"NUMINC\"])\n",
    "\n",
    "## merge with other agency info\n",
    "inc = pd.merge(left = inc, left_index = True, right = agencies, right_on = 'AGENCY_ID')"
   ]
  },
  {
   "cell_type": "code",
   "execution_count": 18,
   "metadata": {},
   "outputs": [
    {
     "data": {
      "text/plain": [
       "City                     423\n",
       "County                   134\n",
       "Other                     32\n",
       "University or College     30\n",
       "Name: AGENCY_TYPE_NAME, dtype: int64"
      ]
     },
     "execution_count": 18,
     "metadata": {},
     "output_type": "execute_result"
    }
   ],
   "source": [
    "## How many of each type of agency in the data?\n",
    "inc[\"AGENCY_TYPE_NAME\"].value_counts()"
   ]
  },
  {
   "cell_type": "code",
   "execution_count": 19,
   "metadata": {},
   "outputs": [
    {
     "name": "stdout",
     "output_type": "stream",
     "text": [
      "Number of reporting agencies:  619\n"
     ]
    },
    {
     "data": {
      "image/png": "[encoded data removed]",
      "text/plain": [
       "<Figure size 576x360 with 1 Axes>"
      ]
     },
     "metadata": {
      "needs_background": "light"
     },
     "output_type": "display_data"
    }
   ],
   "source": [
    "## new variable NUMINC can be used to compare agencies by frequency of reporting\n",
    "fig, ax = plt.subplots(figsize = (8,5))\n",
    "ax.scatter(inc[\"NUMINC\"], inc[\"POPULATION\"], s = 10, marker = \"+\")\n",
    "ax.set_xlabel(\"Number of reported incidents by agency\", fontsize = 15, labelpad = 15)\n",
    "ax.set_ylabel(\"Population covered by agency\", fontsize = 15, labelpad = 15)\n",
    "print(\"Number of reporting agencies: \", len(inc))\n",
    "ax.set_xscale('log')"
   ]
  },
  {
   "cell_type": "code",
   "execution_count": 22,
   "metadata": {},
   "outputs": [
    {
     "data": {
      "image/png": "[encoded data removed]",
      "text/plain": [
       "<Figure size 648x1152 with 4 Axes>"
      ]
     },
     "metadata": {
      "needs_background": "light"
     },
     "output_type": "display_data"
    }
   ],
   "source": [
    "c = \"AGENCY_TYPE_NAME\"\n",
    "n = len(inc[c].unique())\n",
    "fig, axes = plt.subplots(n, figsize = (9, 4*n), sharex = False)\n",
    "for i, each in enumerate(inc[c].unique()):\n",
    "    axes[i].boxplot(inc.loc[inc[c]==each][\"NUMINC\"], vert = False, widths = 0.5)\n",
    "    axes[i].set_ylabel(each, fontsize = 15)\n",
    "    axes[i].tick_params(labelleft= False, labelsize = 12)\n",
    "    \n",
    "_ = axes[n-1].set_xlabel(\"Number of reported incidents by agency\", fontsize = 16)"
   ]
  },
  {
   "cell_type": "code",
   "execution_count": 24,
   "metadata": {},
   "outputs": [
    {
     "name": "stdout",
     "output_type": "stream",
     "text": [
      "median: 0.026675 \n"
     ]
    },
    {
     "data": {
      "image/png": "[encoded data removed]",
      "text/plain": [
       "<Figure size 648x288 with 1 Axes>"
      ]
     },
     "metadata": {
      "needs_background": "light"
     },
     "output_type": "display_data"
    }
   ],
   "source": [
    "fig, ax = plt.subplots(figsize = (9,4))\n",
    "boxplot =  ax.boxplot(inc.loc[inc['POPULATION']!=0]['NUMINC']/inc.loc[inc['POPULATION']!=0]['POPULATION'], vert = False, widths = 0.5)\n",
    "ax.tick_params(left = False, labelleft = False, labelsize = 12)\n",
    "_ = ax.set_xlabel(r\"$\\frac{\\mathrm{Number\\;of\\;incidents\\;reported\\;by\\;agency}}{\\mathrm{population\\;covered\\;by \\;agency}}$\", fontsize = 19, labelpad = 15)\n",
    "print(\"median: %f \"%boxplot['medians'][0].get_xdata()[0])\n",
    "\n",
    "#plt.savefig('Figures/agencies_normpart_boxplot', bbox_inches = 'tight')"
   ]
  },
  {
   "cell_type": "code",
   "execution_count": 25,
   "metadata": {},
   "outputs": [
    {
     "name": "stdout",
     "output_type": "stream",
     "text": [
      "Median no. of incidents reported by an agency 172.0\n",
      "Mean no. of incidents reported by an agency 1455.9337641357029\n"
     ]
    }
   ],
   "source": [
    "print(\"Median no. of incidents reported by an agency\", \n",
    "      inc[['AGENCY_ID','NUMINC']].drop_duplicates()['NUMINC'].median())\n",
    "print(\"Mean no. of incidents reported by an agency\", \n",
    "      inc[['AGENCY_ID','NUMINC']].drop_duplicates()['NUMINC'].mean())"
   ]
  },
  {
   "cell_type": "markdown",
   "metadata": {},
   "source": [
    "# Assembling Data: \n",
    "## 1. Victim-offender relationship records\n",
    "\n",
    "*NIBRS_VICTIM_OFFENDER_REL.csv* has columns `DATA_YEAR`,`VICTIM_ID`,`OFFENDER_ID`,`RELATIONSHIP_ID`,and `NIBRS_VICTIM_OFFENDER_ID`.\n",
    "\n",
    "The values for `RELATIONSHIP_ID` are included in *NIBRS_RELATIONSHIP.csv* (see below)"
   ]
  },
  {
   "cell_type": "code",
   "execution_count": 26,
   "metadata": {},
   "outputs": [],
   "source": [
    "#pandas.set_option('display.max_rows', None)\n",
    "rel_types = pd.read_csv(folder+\"NIBRS_RELATIONSHIP.csv\")\n",
    "\n",
    "## dictionary that converts RELATIONSHIP_ID -> RELATIONSHIP_NAME\n",
    "drel_types = dict(zip(rel_types['RELATIONSHIP_ID'].to_list(),rel_types['RELATIONSHIP_NAME'].to_list()))"
   ]
  },
  {
   "cell_type": "markdown",
   "metadata": {},
   "source": [
    "Load table: *NIBRS_VICTIM_OFFENDER_REL.csv*"
   ]
  },
  {
   "cell_type": "code",
   "execution_count": 27,
   "metadata": {},
   "outputs": [],
   "source": [
    "vict = pd.read_csv(folder+\"NIBRS_VICTIM_OFFENDER_REL.csv\")"
   ]
  },
  {
   "cell_type": "markdown",
   "metadata": {},
   "source": [
    "## 2. Connect victims to offenses\n",
    "- NIBRS_VICTIM_OFFENDER_REL.csv contains `VICTIM_ID`\n",
    "1. Join previous dataframe (NIBRS_VICTIM_OFFENDER_REL.csv) with NIBRS_VICTIM_OFFENSE on `VICTIM_ID` to get `OFFENSE_ID`(s) connected with each victim/offender pair\n",
    "    - NIBRS_VICTIM_OFFENSE contains both `VICTIM_ID` and `OFFENSE_ID`\n",
    "    - retain `OFFENDER_ID` from *NIBRS_VICTIM_OFFENDER_REL.csv* so I can get information on offender later\n",
    "    - `OFFENSE_ID` can be matched to multiple unique values of `VICTIM_ID`, i.e. \"many-to-one\"\n",
    "    \n",
    "    \n",
    "2. Join new dataframe from step 1 with NIBRS_OFFENSE on `OFFENSE_ID`\n",
    "\n",
    "    - this adds more information about the offense, most notably `OFFENSE_TYPE_ID` (e.g. codes for simple assault, aggravated assault, etc.) and `INCIDENT_ID`\n",
    "    - \"one-to-one\"\n",
    "\n",
    "Codes/descriptions for `OFFENSE_TYPE_ID`"
   ]
  },
  {
   "cell_type": "code",
   "execution_count": 29,
   "metadata": {},
   "outputs": [],
   "source": [
    "offense_types = pd.read_csv(folder+\"NIBRS_OFFENSE_TYPE.csv\")\n",
    "## dictionary that converts OFFENSE_TYPE_ID -> OFFENSE_NAME\n",
    "doffense_types = dict(zip(offense_types['OFFENSE_TYPE_ID'].to_list(),offense_types['OFFENSE_NAME'].to_list()))"
   ]
  },
  {
   "cell_type": "markdown",
   "metadata": {},
   "source": [
    "Load table: *NIBRS_VICTIM_OFFENSE.csv*"
   ]
  },
  {
   "cell_type": "code",
   "execution_count": 1,
   "metadata": {},
   "outputs": [
    {
     "ename": "NameError",
     "evalue": "name 'pd' is not defined",
     "output_type": "error",
     "traceback": [
      "\u001b[1;31m---------------------------------------------------------------------------\u001b[0m",
      "\u001b[1;31mNameError\u001b[0m                                 Traceback (most recent call last)",
      "\u001b[1;32m~\\AppData\\Local\\Temp/ipykernel_11352/2986728174.py\u001b[0m in \u001b[0;36m<module>\u001b[1;34m\u001b[0m\n\u001b[1;32m----> 1\u001b[1;33m \u001b[0mNIBRS_victim_offense\u001b[0m \u001b[1;33m=\u001b[0m \u001b[0mpd\u001b[0m\u001b[1;33m.\u001b[0m\u001b[0mread_csv\u001b[0m\u001b[1;33m(\u001b[0m\u001b[0mfolder\u001b[0m\u001b[1;33m+\u001b[0m\u001b[1;34m\"NIBRS_VICTIM_OFFENSE.csv\"\u001b[0m\u001b[1;33m)\u001b[0m\u001b[1;33m\u001b[0m\u001b[1;33m\u001b[0m\u001b[0m\n\u001b[0m",
      "\u001b[1;31mNameError\u001b[0m: name 'pd' is not defined"
     ]
    }
   ],
   "source": [
    "NIBRS_victim_offense = pd.read_csv(folder+\"NIBRS_VICTIM_OFFENSE.csv\")"
   ]
  },
  {
   "cell_type": "code",
   "execution_count": 31,
   "metadata": {},
   "outputs": [],
   "source": [
    "vict_offense = pd.merge(left = NIBRS_victim_offense, \n",
    "                        #right = IPvict,\n",
    "                        right = vict,\n",
    "                        on = ['VICTIM_ID', 'DATA_YEAR'],\n",
    "                        how = 'right',\n",
    ")"
   ]
  },
  {
   "cell_type": "markdown",
   "metadata": {},
   "source": [
    "Load table: *NIBRS_offense.csv*"
   ]
  },
  {
   "cell_type": "code",
   "execution_count": 33,
   "metadata": {},
   "outputs": [],
   "source": [
    "NIBRS_offense = pd.read_csv(folder+\"NIBRS_offense.csv\")"
   ]
  },
  {
   "cell_type": "markdown",
   "metadata": {},
   "source": [
    "Connect this new dataframe to the NIBRS_OFFENSE.csv using `OFFENDER_ID`:"
   ]
  },
  {
   "cell_type": "code",
   "execution_count": 35,
   "metadata": {},
   "outputs": [],
   "source": [
    "vict_offns = pd.merge(left = NIBRS_offense, \n",
    "                     right = vict_offense, \n",
    "                     on = ['DATA_YEAR','OFFENSE_ID'])"
   ]
  },
  {
   "cell_type": "markdown",
   "metadata": {},
   "source": [
    "## 3. Add Victim and Offender information (e.g., age, sex, race)\n",
    "\n",
    "Load table: *NIBRS_victim.csv*"
   ]
  },
  {
   "cell_type": "code",
   "execution_count": 36,
   "metadata": {},
   "outputs": [],
   "source": [
    "NIBRS_victim = pd.read_csv(folder+\"NIBRS_victim.csv\")"
   ]
  },
  {
   "cell_type": "markdown",
   "metadata": {},
   "source": [
    "Load table: *NIBRS_offender.csv*"
   ]
  },
  {
   "cell_type": "code",
   "execution_count": 37,
   "metadata": {},
   "outputs": [],
   "source": [
    "NIBRS_offender = pd.read_csv(folder + \"NIBRS_offender.csv\")"
   ]
  },
  {
   "cell_type": "markdown",
   "metadata": {},
   "source": [
    "The same variable names `AGE_ID`, `AGE_NUM`, `SEX_CODE`, `RACE_ID`, `ETHNICITY_ID`, `AGE_RANGE_LOW_NUM`, `AGE_RANGE_HIGH_NUM` are used in both *NIBRS_victim.csv* and *NIBRS_offender.csv*\n",
    "\n",
    "So I'll have to **rename the variables** before merging. "
   ]
  },
  {
   "cell_type": "code",
   "execution_count": 38,
   "metadata": {},
   "outputs": [],
   "source": [
    "## rename victim and offender variables by appending either 'VICTIM_' or 'OFFENDER_'\n",
    "## in front of each variable listed\n",
    "vmap = {}\n",
    "omap = {}\n",
    "for each in ['AGE_ID', 'AGE_NUM', 'SEX_CODE', 'RACE_ID', 'ETHNICITY_ID', 'AGE_RANGE_LOW_NUM', 'AGE_RANGE_HIGH_NUM']:\n",
    "    vmap[each] = 'VICTIM_'+each\n",
    "    omap[each] = 'OFFENDER_'+each\n",
    "\n",
    "NIBRS_victim2 = NIBRS_victim.rename(columns = vmap)\n",
    "NIBRS_offender2 = NIBRS_offender.rename(columns = omap)"
   ]
  },
  {
   "cell_type": "markdown",
   "metadata": {},
   "source": [
    "Merge previous dataframe with \n",
    "- NIBRS_victim table on `VICTIM_ID` and `INCIDENT_ID`\n",
    "- NIBRS_offender table on `OFFENDER_ID` and `INCIDENT_ID`"
   ]
  },
  {
   "cell_type": "code",
   "execution_count": 39,
   "metadata": {},
   "outputs": [],
   "source": [
    "## merge with victim info\n",
    "VO1 = pd.merge(left = vict_offns,\n",
    "              right = NIBRS_victim2, \n",
    "              on = ['DATA_YEAR', 'VICTIM_ID', 'INCIDENT_ID'])\n",
    "\n",
    "### merge with offender info\n",
    "VO2 = pd.merge(left = VO1, \n",
    "              right = NIBRS_offender2, \n",
    "              on = ['DATA_YEAR', 'OFFENDER_ID', 'INCIDENT_ID'])"
   ]
  },
  {
   "cell_type": "markdown",
   "metadata": {},
   "source": [
    "### Treatment of age variables\n",
    "\n",
    "Something different from the ICPSR distribution is that **age is given via two variables as a range** instead of being given as a single value. I don't expect this to be an issue since I'm dealing with intimate partner relationships. Here's what `AGE_ID` corresponds to:"
   ]
  },
  {
   "cell_type": "code",
   "execution_count": 40,
   "metadata": {},
   "outputs": [
    {
     "data": {
      "text/html": [
       "<div>\n",
       "<style scoped>\n",
       "    .dataframe tbody tr th:only-of-type {\n",
       "        vertical-align: middle;\n",
       "    }\n",
       "\n",
       "    .dataframe tbody tr th {\n",
       "        vertical-align: top;\n",
       "    }\n",
       "\n",
       "    .dataframe thead th {\n",
       "        text-align: right;\n",
       "    }\n",
       "</style>\n",
       "<table border=\"1\" class=\"dataframe\">\n",
       "  <thead>\n",
       "    <tr style=\"text-align: right;\">\n",
       "      <th></th>\n",
       "      <th>AGE_ID</th>\n",
       "      <th>AGE_CODE</th>\n",
       "      <th>AGE_NAME</th>\n",
       "    </tr>\n",
       "  </thead>\n",
       "  <tbody>\n",
       "    <tr>\n",
       "      <th>0</th>\n",
       "      <td>1</td>\n",
       "      <td>NN</td>\n",
       "      <td>Under 24 Hours</td>\n",
       "    </tr>\n",
       "    <tr>\n",
       "      <th>1</th>\n",
       "      <td>2</td>\n",
       "      <td>NB</td>\n",
       "      <td>1-6 Days Old</td>\n",
       "    </tr>\n",
       "    <tr>\n",
       "      <th>2</th>\n",
       "      <td>3</td>\n",
       "      <td>BB</td>\n",
       "      <td>7-364 Days Old</td>\n",
       "    </tr>\n",
       "    <tr>\n",
       "      <th>3</th>\n",
       "      <td>4</td>\n",
       "      <td>00</td>\n",
       "      <td>Unknown</td>\n",
       "    </tr>\n",
       "    <tr>\n",
       "      <th>4</th>\n",
       "      <td>5</td>\n",
       "      <td>AG</td>\n",
       "      <td>Age in Years</td>\n",
       "    </tr>\n",
       "    <tr>\n",
       "      <th>5</th>\n",
       "      <td>6</td>\n",
       "      <td>99</td>\n",
       "      <td>Over 98 Years Old</td>\n",
       "    </tr>\n",
       "    <tr>\n",
       "      <th>6</th>\n",
       "      <td>0</td>\n",
       "      <td>NS</td>\n",
       "      <td>Not Specified</td>\n",
       "    </tr>\n",
       "  </tbody>\n",
       "</table>\n",
       "</div>"
      ],
      "text/plain": [
       "   AGE_ID AGE_CODE           AGE_NAME\n",
       "0       1       NN     Under 24 Hours\n",
       "1       2       NB       1-6 Days Old\n",
       "2       3       BB     7-364 Days Old\n",
       "3       4       00            Unknown\n",
       "4       5       AG       Age in Years\n",
       "5       6       99  Over 98 Years Old\n",
       "6       0       NS      Not Specified"
      ]
     },
     "execution_count": 40,
     "metadata": {},
     "output_type": "execute_result"
    }
   ],
   "source": [
    "pd.read_csv(folder + \"NIBRS_AGE.csv\")"
   ]
  },
  {
   "cell_type": "markdown",
   "metadata": {},
   "source": [
    "If the age is known , it's given by `AGE_RANGE_LOW_NUM` or, equivalently, `AGE_NUM`. If `AGE_ID` is anything other than 5, `AGE_NUM`,`AGE_RANGE_LOW_NUM`, and `AGE_RANGE_HIGH_NUM` are all NaN. If `AGE_ID` is 5, `AGE_RANGE_HIGH_NUM` can be either 0 (if exact age is known) or greater than `AGE_RANGE_LOW_NUM` (thus giving an age range). "
   ]
  },
  {
   "cell_type": "markdown",
   "metadata": {},
   "source": [
    "If an age range is given (i.e. exact age is NOT known), then `AGE_NUM` is given as the midpoint of the range, rounding down to the nearest whole integer, i.e. \n",
    "```\n",
    "if AGE_RANGE_HIGH_NUM>0:\n",
    "    `AGE_NUM` = math.floor( (AGE_RANGE_LOW_NUM + AGE_RANGE_HIGH_NUM)/2 )\n",
    "```\n",
    "\n",
    "Below I create **new variables** `VICTIM_AGE` and `OFFENDER_AGE` to simplify things a bit further: these variables give the age as a single value if age is known, and -99 otherwise. I do this because I assume that the ages of the victim(s)/offender(s) will be known in a large majority of -- if not all -- IPV incidents. "
   ]
  },
  {
   "cell_type": "code",
   "execution_count": 43,
   "metadata": {},
   "outputs": [],
   "source": [
    "VO2['OFFENDER_AGE'] = np.where((VO2['OFFENDER_AGE_ID']==5)&(VO2['OFFENDER_AGE_RANGE_HIGH_NUM']==0), \n",
    "                               VO2['OFFENDER_AGE_RANGE_LOW_NUM'], \n",
    "                              -99)\n",
    "\n",
    "VO2['VICTIM_AGE'] = np.where((VO2['VICTIM_AGE_ID']==5)&(VO2['VICTIM_AGE_RANGE_HIGH_NUM']==0), \n",
    "                               VO2['VICTIM_AGE_RANGE_LOW_NUM'], \n",
    "                              -99)"
   ]
  },
  {
   "cell_type": "markdown",
   "metadata": {},
   "source": [
    "## 4. Merge with incident data\n",
    "\n",
    "The arrestee data is connected with `INCIDENT_ID`, so in order to get information on whether or not an arrest occurred, I must merge the offense data with incident data. \n",
    "\n",
    "`INCIDENT_ID` already exists in my current dataframe from the NIBRS_offense table, but merging with incident data will give me other details of the incident (such as the reporting agency) and allow me to collect all the offenses, offenders, and victims under a single identifier"
   ]
  },
  {
   "cell_type": "code",
   "execution_count": 14,
   "metadata": {},
   "outputs": [
    {
     "name": "stdout",
     "output_type": "stream",
     "text": [
      "Total no. of incidents in NIBRS-TX2019:  901223\n"
     ]
    }
   ],
   "source": [
    "NIBRS_incident = pd.read_csv(folder+\"NIBRS_incident.csv\")\n",
    "tot_no_incidents = len(NIBRS_incident['INCIDENT_ID'].unique())\n",
    "print(\"Total no. of incidents in NIBRS-TX2019: \", tot_no_incidents)"
   ]
  },
  {
   "cell_type": "code",
   "execution_count": 45,
   "metadata": {},
   "outputs": [],
   "source": [
    "# IVO = incident, victim, offender\n",
    "IVO = pd.merge(left = NIBRS_incident, \n",
    "        right = VO2, \n",
    "        on = ['DATA_YEAR', 'INCIDENT_ID'],\n",
    "        how = \"inner\") # how = 'right' produces the same result"
   ]
  },
  {
   "cell_type": "markdown",
   "metadata": {},
   "source": [
    "## 5. Merge with arrest file\n",
    "\n",
    "The associated files are \n",
    "- NIBRS_ARRESTEE.csv: tracks arrests related to incidents \n",
    "- NIBRS_ARRESTEE_WEAPON.csv: lists arrestees' weapon(s), if included in incident\n",
    "    - includes `ARRESTEE_ID` as reference to NIBRS_ARRESTEE.csv    \n",
    "- NIBRS_ARREST_TYPE.csv: reference for `ARREST_TYPE_ID` in  NIBRS_ARRESTEE.csv\n",
    "- NIBRS_WEAPON.csv: reference for `WEAPON_ID` in NIBRS_ARRESTEE_WEAPON.csv\n",
    "\n",
    "For now, I will only merge NIBRS_ARRESTEE.csv and not include the arrestee weapon table. "
   ]
  },
  {
   "cell_type": "code",
   "execution_count": 57,
   "metadata": {},
   "outputs": [
    {
     "data": {
      "text/html": [
       "<div>\n",
       "<style scoped>\n",
       "    .dataframe tbody tr th:only-of-type {\n",
       "        vertical-align: middle;\n",
       "    }\n",
       "\n",
       "    .dataframe tbody tr th {\n",
       "        vertical-align: top;\n",
       "    }\n",
       "\n",
       "    .dataframe thead th {\n",
       "        text-align: right;\n",
       "    }\n",
       "</style>\n",
       "<table border=\"1\" class=\"dataframe\">\n",
       "  <thead>\n",
       "    <tr style=\"text-align: right;\">\n",
       "      <th></th>\n",
       "      <th>ARREST_TYPE_ID</th>\n",
       "      <th>ARREST_TYPE_CODE</th>\n",
       "      <th>ARREST_TYPE_NAME</th>\n",
       "    </tr>\n",
       "  </thead>\n",
       "  <tbody>\n",
       "    <tr>\n",
       "      <th>0</th>\n",
       "      <td>1</td>\n",
       "      <td>O</td>\n",
       "      <td>On View</td>\n",
       "    </tr>\n",
       "    <tr>\n",
       "      <th>1</th>\n",
       "      <td>2</td>\n",
       "      <td>S</td>\n",
       "      <td>Summoned / Cited</td>\n",
       "    </tr>\n",
       "    <tr>\n",
       "      <th>2</th>\n",
       "      <td>3</td>\n",
       "      <td>T</td>\n",
       "      <td>Taken INTO Custody</td>\n",
       "    </tr>\n",
       "  </tbody>\n",
       "</table>\n",
       "</div>"
      ],
      "text/plain": [
       "   ARREST_TYPE_ID ARREST_TYPE_CODE    ARREST_TYPE_NAME\n",
       "0               1                O             On View\n",
       "1               2                S    Summoned / Cited\n",
       "2               3                T  Taken INTO Custody"
      ]
     },
     "execution_count": 57,
     "metadata": {},
     "output_type": "execute_result"
    }
   ],
   "source": [
    "arrest_types = pd.read_csv(folder + \"NIBRS_ARREST_TYPE.csv\")\n",
    "arrest_types"
   ]
  },
  {
   "cell_type": "code",
   "execution_count": 58,
   "metadata": {},
   "outputs": [],
   "source": [
    "darrest_types = dict(zip(arrest_types['ARREST_TYPE_ID'].to_list(),arrest_types['ARREST_TYPE_CODE'].to_list()))"
   ]
  },
  {
   "cell_type": "markdown",
   "metadata": {},
   "source": [
    "Load table: *NIBRS_ARRESTEE.csv*"
   ]
  },
  {
   "cell_type": "code",
   "execution_count": 59,
   "metadata": {},
   "outputs": [],
   "source": [
    "NIBRS_arrest = pd.read_csv(folder + \"NIBRS_ARRESTEE.csv\")"
   ]
  },
  {
   "cell_type": "markdown",
   "metadata": {},
   "source": [
    "I'll **rename variables** `AGE_ID`, `AGE_NUM`, `SEX_CODE`, `RACE_ID`, `ETHNICITY_ID`, `AGE_RANGE_LOW_NUM`, and `AGE_RANGE_HIGH_NUM` for clarity and consistency with existing variable names like `VICTIM_AGE_ID` and `OFFENDER_AGE_ID`. I will also create a **new variable** `ARRESTEE_AGE` to be consistent with previously created variables `VICTIM_AGE` and `OFFENDER_AGE`. "
   ]
  },
  {
   "cell_type": "code",
   "execution_count": 60,
   "metadata": {},
   "outputs": [],
   "source": [
    "NIBRS_arrest = pd.read_csv(folder + \"NIBRS_ARRESTEE.csv\")\n",
    "\n",
    "# rename existing variables\n",
    "amap = {}\n",
    "for each in ['AGE_ID', 'AGE_NUM', 'SEX_CODE', 'RACE_ID', 'ETHNICITY_ID', 'AGE_RANGE_LOW_NUM', 'AGE_RANGE_HIGH_NUM']:\n",
    "    amap[each] = 'ARRESTEE_'+each\n",
    "NIBRS_arrest = NIBRS_arrest.rename(columns = amap)\n",
    "\n",
    "# generate new variable `ARRESTEE_AGE`\n",
    "NIBRS_arrest['ARRESTEE_AGE'] = np.where((NIBRS_arrest['ARRESTEE_AGE_ID']==5) &\n",
    "                                       (NIBRS_arrest['ARRESTEE_AGE_RANGE_HIGH_NUM']==0), \n",
    "                                       NIBRS_arrest['ARRESTEE_AGE_RANGE_LOW_NUM'], -99)"
   ]
  },
  {
   "cell_type": "code",
   "execution_count": 61,
   "metadata": {},
   "outputs": [
    {
     "name": "stdout",
     "output_type": "stream",
     "text": [
      "previous dataframe, n =  368722\n",
      "new dataframe, n =  381752\n",
      "number of unique incidents in previous dataframe:  245295\n",
      "number of unique incidents in new dataframe:  245295\n"
     ]
    }
   ],
   "source": [
    "IVOA = pd.merge(left = IVO,\n",
    "               right = NIBRS_arrest,\n",
    "               on = ['DATA_YEAR', 'INCIDENT_ID', 'OFFENSE_TYPE_ID'], \n",
    "               how = \"left\") # left merge since **not all incidents will have an associated arrest record**"
   ]
  },
  {
   "cell_type": "markdown",
   "metadata": {},
   "source": [
    "I'll create a **new variable** (`INC_APPEARS`) to indicate how many times the incident ID is repeated in the current dataframe. "
   ]
  },
  {
   "cell_type": "code",
   "execution_count": 62,
   "metadata": {},
   "outputs": [
    {
     "name": "stdout",
     "output_type": "stream",
     "text": [
      "381752\n"
     ]
    }
   ],
   "source": [
    "nappears = IVOA['INCIDENT_ID'].value_counts()\n",
    "\n",
    "temp = pd.DataFrame(nappears.values, index = nappears.index, columns = ['INC_APPEARS'])\n",
    "\n",
    "IVOA = pd.merge(left = IVOA, \n",
    "                right = temp,\n",
    "                right_index = True, \n",
    "                left_on = 'INCIDENT_ID', \n",
    "                how = 'inner')"
   ]
  },
  {
   "cell_type": "markdown",
   "metadata": {},
   "source": [
    "Recall arrest file is merged on `INCIDENT_ID`. Therefore, `ARRESTEE_ID` doesn't correspond uniquely to `VICTIM_ID` or `OFFENDER_ID` (the purpose of `ARRESTEE_ID` is to connect arrestee information with *NIBRS_ARRESTEE_WEAPON.csv*. <font color = red> **The way to determine which offender is which arrestee is through offense type, age, sex, race, and ethnicity. Of course, this is an issue if the two arrestees are of the same age, sex, race, and ethnicity and committed the same offense.** </font>"
   ]
  },
  {
   "cell_type": "markdown",
   "metadata": {},
   "source": [
    "# Selection of IPV-related offenses: Criteria\n",
    "\n",
    "<!-- Want to ultimately get information on \n",
    "- Did arrest occur for $i$th offender? \n",
    "- What are characteristics of $i$th offender?\n",
    "- (Eventually), what are characteristics of $i$th offender's offense?\n",
    "\n",
    "Interested in offenders who\n",
    "- Committed IPV-related offenses\n",
    "- Are related to at least one victim by IP relationship\n",
    "\n",
    "Some questions to consider down the line:\n",
    "\n",
    "**Question**: Do I mark dual arrests (arrest of both victim/offender, which is problematic in cases of IPV) in a special way? Do I exclude them for simplicity (i.e. focus on cases where a single offender was arrested)?\n",
    "\n",
    "**Question**: Should I compare arrest rates in simple cases, at least to start (i.e. single offender/victim)? How many incidents with IPV-related offenses are \"simple?\" \n",
    "\n",
    "To answer the latter question,--> I first need the <font color = blue>subset of offenses with at least one IPV-related offense </font>, where an IPV-related offense entails an DV-related offense committed by an offender in an IP relationship with the victim (two selection criteria). \n",
    "\n",
    "## Victim-Offender Relationship\n",
    "\n",
    "<!-- **Question**: Should I include ex-boyfriends/ex-girlfriends and ex-spouses?\n",
    "\n",
    "Note: Common-law marriage is a legal framework where a couple may be considered married without having formally registered their relation as a civil or religious marriage. \n",
    "\n",
    "From the [NIBRS User Manual](https://www.fbi.gov/file-repository/ucr/ucr-2019-1-nibrs-user-manua-093020.pdf/view): \n",
    "\n",
    "*The agency should use the Victim Was Offender category when a participant in the incident was\n",
    "a victim and offender in the incident, such as domestic disputes where both husband and wife\n",
    "are charged with assault, double murders (two people kill each other), or barroom brawls\n",
    "where many participants are arrested*\n",
    "\n",
    "**Question**: Should I include cases where the victim was marked as both a victim and an offender? \n",
    "-->\n",
    "\n",
    "For now, I will include \n",
    "- victim was spouse (RELATIONSHIP_ID = 21)\n",
    "- victim was boyfriend/girlfriend (RELATIONSHIP_ID = 3)\n",
    "- victim was common-law spouse (RELATIONSHIP_ID = 6) \n",
    "- victim was offender (RELATIONSHIP_ID = 25)\n",
    "<!--\n",
    "I would like to include *victim was offender* cases because I do not want to exclude cases where the assault perpetrated by the victim failed to be identified as self-defense. Police response in nuanced situations is the very focus of this research project. However, I am not as interested in police response to incidents involving ex-relationships, though in general it would be another interesting factor to consider. -->"
   ]
  },
  {
   "cell_type": "markdown",
   "metadata": {},
   "source": [
    "## DV-related offenses"
   ]
  },
  {
   "cell_type": "code",
   "execution_count": 72,
   "metadata": {},
   "outputs": [],
   "source": [
    "## selected DV-related offense codes - anything that may be related to IPV\n",
    "DVoffn_codes = [62, 20, 27,44,51, 49, 5, 26, 64, 32, 59, 60, 29, 40, 4, 43, 56, 36, 6]\n",
    "\n",
    "## selected DV-related offense codes - a more conservative/cautious list\n",
    "## **this is the one I end up using (see previous Notebooks for justification)\n",
    "DVoffn_codes2 = [20,27,44,51, 32, 59, 60, 29, 40, 4, 43, 56, 36, 6] "
   ]
  },
  {
   "cell_type": "markdown",
   "metadata": {},
   "source": [
    "\n",
    "## Selection of IPV-related offenses: Implementation\n",
    "\n",
    "In order to select \"IPV-related offenses\", I need to find incidents with DV-related offenses (from the conservative list above) that occurred between a victim and offender related by one of my endorsed IP relationship types. \n",
    "\n",
    "This amounts to me selecting incidents where\n",
    "\n",
    "* *at least* one of the offenses is in my endorse (conservative) list of DV-related offenses\n",
    "\n",
    "AND \n",
    "\n",
    "* *at least* one of the relationships tied to this offense is boyfriend/girlfriend, spouse, or common-law spouse. \n",
    "\n",
    "<!--other values of `NIBRS_VICTIM_OFFENDER_ID` and thus information about other offenses, offenders, and, victims in the incident will not be excluded as they were in *IPvict*. This is so that I can ask questions like \"How many offenders are typical in an incident?\" and \"How do I identify and mark dual arrests?\" For example, in the case that a boyfriend and girlfriend both committed simple assault, there will be four unique values of `NIBRS_VICTIM_OFFENDER_ID`.-->\n",
    "\n",
    "I found one way to do this is to create a **new variable** `IPVOFFENSE`, iterate over all incidents, and, for all incidents meeting the above criteria, all rows with that incident ID are flagged with `IPVOFFENSE=True`. Then a new dataframe is generated selecting only rows with `IPVOFFENSE=True`"
   ]
  },
  {
   "cell_type": "code",
   "execution_count": 88,
   "metadata": {},
   "outputs": [
    {
     "name": "stdout",
     "output_type": "stream",
     "text": [
      "0 % -- 0 minutes 0.015612 seconds\n",
      "10 % -- 2 minutes 25.650806 seconds\n",
      "20 % -- 4 minutes 38.995883 seconds\n",
      "30 % -- 6 minutes 28.470449 seconds\n",
      "40 % -- 8 minutes 12.974585 seconds\n",
      "50 % -- 9 minutes 22.932722 seconds\n",
      "60 % -- 11 minutes 17.562531 seconds\n",
      "70 % -- 13 minutes 23.130336 seconds\n",
      "80 % -- 15 minutes 22.268219 seconds\n",
      "90 % -- 17 minutes 28.692902 seconds\n",
      "100 % -- 19 minutes 42.888166 seconds\n"
     ]
    }
   ],
   "source": [
    "n = len(IVOA['INCIDENT_ID'].unique())\n",
    "\n",
    "# variable to mark incidents with IPV-related offenses\n",
    "IVOA['IPVOFFENSE'] = 'No'\n",
    "\n",
    "# iterate over incidents\n",
    "start_time = time.time()\n",
    "for i,INCIDENT_ID in enumerate(IVOA['INCIDENT_ID'].unique()): \n",
    "    # makeshift progress bar\n",
    "    t = time.time() - start_time\n",
    "    if i%round((n-1)/10) == 0:\n",
    "        if t>60:\n",
    "            print(\"%d %% -- %d minutes %f seconds\"%(i/round((n-1)/10)*10, math.floor(t/60),t%60))\n",
    "        else: \n",
    "            print(\"%d %% -- 0 minutes %f seconds\"%(i/round((n-1)/10)*10, t%60))\n",
    "    \n",
    "    incident = IVOA[IVOA['INCIDENT_ID']==INCIDENT_ID]\n",
    "    DVoffense = []\n",
    "   \n",
    "    # check to see if incident includes DV-related offenses from conservative list; hold such offenses in a list\n",
    "    for offense in incident['OFFENSE_TYPE_ID'].unique():\n",
    "        if offense in DVoffn_codes2:\n",
    "            DVoffense.append(offense)\n",
    "    # if DV-related offenses are included in the incident, \n",
    "    if len(DVoffense)>0:\n",
    "        # is *at least one* of the DV-related offenses tied to IP relationship?\n",
    "        for offense in DVoffense:\n",
    "            rels_for_this_offense = incident[incident['OFFENSE_TYPE_ID']==offense]['RELATIONSHIP_ID'].unique()\n",
    "            for rel in rels_for_this_offense: \n",
    "                if rel in [21,3,6]:\n",
    "                    IVOA.loc[IVOA['INCIDENT_ID']==INCIDENT_ID, 'IPVOFFENSE'] ='Yes' # marked all rows of the incident to be included"
   ]
  },
  {
   "cell_type": "markdown",
   "metadata": {},
   "source": [
    "New data subset:"
   ]
  },
  {
   "cell_type": "code",
   "execution_count": 93,
   "metadata": {},
   "outputs": [],
   "source": [
    "IPIVOA = IVOA[IVOA['IPVOFFENSE']=='Yes']"
   ]
  },
  {
   "cell_type": "code",
   "execution_count": 94,
   "metadata": {},
   "outputs": [
    {
     "name": "stdout",
     "output_type": "stream",
     "text": [
      "no. incidents in previous dataframe:  245295\n",
      "no.incidents in new dataframe:  65816\n"
     ]
    }
   ],
   "source": [
    "print(\"no. incidents in previous dataframe: \",len(IVOA['INCIDENT_ID'].unique()))\n",
    "print(\"no.incidents in new dataframe: \", len(IPIVOA['INCIDENT_ID'].unique()))"
   ]
  },
  {
   "cell_type": "markdown",
   "metadata": {},
   "source": [
    "<!--**How many offenders are typical in an incident including an IPV-related offense?**\n",
    "\n",
    "This is asked as part of investigating the question above of \"How many incidents with IPV-related offenses are 'simple?'\" If I decide to select only \"simple\" cases, I want to understand the affects of this decision (e.g., How many incidents am I overlooking?)-->\n",
    "\n",
    "A **new variable** `NOFFENDERS` is created to represent how many unique values of `OFFENDER_ID` are associated with a given `INCIDENT_ID`, i.e. how many offenders for that incident. "
   ]
  },
  {
   "cell_type": "code",
   "execution_count": 95,
   "metadata": {},
   "outputs": [
    {
     "name": "stdout",
     "output_type": "stream",
     "text": [
      "0 % -- 0 minutes 0.000000 seconds\n",
      "10 % -- 0 minutes 11.453482 seconds\n",
      "20 % -- 0 minutes 23.154202 seconds\n",
      "30 % -- 0 minutes 34.646725 seconds\n",
      "40 % -- 0 minutes 48.451501 seconds\n",
      "50 % -- 1 minutes 2.865638 seconds\n",
      "60 % -- 1 minutes 15.509335 seconds\n",
      "70 % -- 1 minutes 29.330123 seconds\n",
      "80 % -- 1 minutes 43.042338 seconds\n",
      "90 % -- 1 minutes 55.884839 seconds\n",
      "100 % -- 2 minutes 10.423370 seconds\n"
     ]
    }
   ],
   "source": [
    "## How many unique values of OFFENDER_ID for a given INCIDENT_ID?\n",
    "IPIVOA['NOFFENDERS'] = -999\n",
    "\n",
    "start_time = time.time()\n",
    "n = len(IPIVOA['INCIDENT_ID'].unique())\n",
    "for i, INCIDENT_ID in enumerate(IPIVOA['INCIDENT_ID'].unique()):\n",
    "    printprogress(i,n, start_time)\n",
    "    noffenders = len(IPIVOA[IPIVOA['INCIDENT_ID']==INCIDENT_ID]['OFFENDER_ID'].unique())\n",
    "    IPIVOA.loc[IPIVOA['INCIDENT_ID']==INCIDENT_ID, 'NOFFENDERS'] = noffenders"
   ]
  },
  {
   "cell_type": "markdown",
   "metadata": {},
   "source": [
    "**Exclude cases where NOFFENDERS > 2**\n",
    "\n",
    "New data subset:"
   ]
  },
  {
   "cell_type": "code",
   "execution_count": 103,
   "metadata": {},
   "outputs": [
    {
     "name": "stdout",
     "output_type": "stream",
     "text": [
      "length of previous dataframe:  85614\n",
      "length of new dataframe:  82597\n"
     ]
    }
   ],
   "source": [
    "IPIVOA2 = IPIVOA[IPIVOA['NOFFENDERS']<=2]\n",
    "print(\"length of previous dataframe: \",len(IPIVOA))\n",
    "print(\"length of new dataframe: \",len(IPIVOA2))"
   ]
  },
  {
   "cell_type": "markdown",
   "metadata": {},
   "source": [
    "**Distinguish between two-offender cases: Victim was Offender versus some other offender (New Variable)**\n",
    "\n",
    "**New variable** `RECIPROCATED`: if OFFENDER_ID appears in \"Victim Was Offender\" row and a \"Victim Was {IP Relationship Type X}\" row and the VICTIM_ID in the \"Victim Was {IP Relationship Type X}\" row also appears in a 'Victim Was Offender\" row \n",
    "\n",
    "Can later classify based on \"single offender\", \"reciprocated (same offense)\" and \"reciprocated (different offenses)\" to distinguish between examples like that above where one intimate partner committed a more severe offense (e.g. one spouse commits aggravated assault while the other commits simple assault). This would be useful if I decide to look at arrest rates in only in cases of \"single offender\" and \"reciprocated (different offenses).\" "
   ]
  },
  {
   "cell_type": "code",
   "execution_count": 104,
   "metadata": {},
   "outputs": [
    {
     "name": "stdout",
     "output_type": "stream",
     "text": [
      "0 % -- 0 minutes 0.002204 seconds\n",
      "10 % -- 0 minutes 21.581696 seconds\n",
      "20 % -- 0 minutes 35.275775 seconds\n",
      "30 % -- 0 minutes 50.300396 seconds\n",
      "40 % -- 1 minutes 10.804882 seconds\n",
      "50 % -- 1 minutes 30.613839 seconds\n",
      "60 % -- 1 minutes 45.473462 seconds\n",
      "70 % -- 1 minutes 59.728593 seconds\n",
      "80 % -- 2 minutes 13.231937 seconds\n",
      "90 % -- 2 minutes 27.664065 seconds\n",
      "100 % -- 2 minutes 45.542592 seconds\n"
     ]
    }
   ],
   "source": [
    "IPIVOA2['RECIPROCATED'] = 'No'\n",
    "start_time = time.time()\n",
    "n = len(IPIVOA2['INCIDENT_ID'].unique())\n",
    "for i, INCIDENT_ID in enumerate(IPIVOA2['INCIDENT_ID'].unique()):\n",
    "    printprogress(i,n,start_time)\n",
    "    incident = IPIVOA2[IPIVOA2['INCIDENT_ID']==INCIDENT_ID]\n",
    "    for OFFENDER_ID in incident['OFFENDER_ID'].unique():\n",
    "        if 25 in incident[incident['OFFENDER_ID']==OFFENDER_ID]['RELATIONSHIP_ID'].unique():\n",
    "            IPTYPE = list(set([21,6,3])&set(incident[incident['OFFENDER_ID']==OFFENDER_ID]['RELATIONSHIP_ID'].unique()))\n",
    "            if (len(IPTYPE)>0) & (len(IPTYPE)<2):\n",
    "                VICTIM_IDs = incident[(incident['OFFENDER_ID']==OFFENDER_ID)&\n",
    "                                      (incident['RELATIONSHIP_ID']==IPTYPE[0])]['VICTIM_ID'].unique()\n",
    "                \n",
    "                VICTIM_ID = VICTIM_IDs[0]\n",
    "                if len(VICTIM_IDs)>1:\n",
    "                    print('warning: more than one VICTIM_ID per IP relationship with offender')\n",
    "                \n",
    "                if 25 in incident[incident['VICTIM_ID']==VICTIM_ID]['RELATIONSHIP_ID'].unique():\n",
    "                    \n",
    "                    # labels only certain rows of the incident\n",
    "                    IPIVOA2.loc[(IPIVOA2['OFFENDER_ID']==OFFENDER_ID)\n",
    "                               &(IPIVOA2['VICTIM_ID']==VICTIM_ID), 'RECIPROCATED'] = 'Yes' \n",
    "                \n",
    "            if (len(IPTYPE)>=2):\n",
    "                print('warning: more than one IP type per offender')"
   ]
  },
  {
   "cell_type": "markdown",
   "metadata": {},
   "source": [
    "For this particular data subset, about half of the incidents with IPV-related offenses with two offenders are cases of 'domestic dispute' where two offenders were also two victims. \n",
    "\n",
    "**For incidents with two offenders, I will include only these 'domestic dispute' cases.** The variable `INCLUDE` here is just a temporary flag to simplify the selection, but does not need to be retained in the final dataframe. "
   ]
  },
  {
   "cell_type": "code",
   "execution_count": 109,
   "metadata": {},
   "outputs": [
    {
     "name": "stdout",
     "output_type": "stream",
     "text": [
      "0 % -- 0 minutes 0.000000 seconds\n",
      "10 % -- 0 minutes 0.595880 seconds\n",
      "20 % -- 0 minutes 1.208142 seconds\n",
      "30 % -- 0 minutes 1.758514 seconds\n",
      "40 % -- 0 minutes 2.257835 seconds\n",
      "50 % -- 0 minutes 2.759890 seconds\n",
      "60 % -- 0 minutes 3.255116 seconds\n",
      "70 % -- 0 minutes 3.759774 seconds\n",
      "80 % -- 0 minutes 4.172711 seconds\n",
      "90 % -- 0 minutes 4.582906 seconds\n",
      "100 % -- 0 minutes 5.015006 seconds\n"
     ]
    }
   ],
   "source": [
    "IPIVOA2['INCLUDE'] = 'No'\n",
    "IPIVOA2.loc[IPIVOA2['NOFFENDERS']==1,'INCLUDE'] = 'Yes'\n",
    "\n",
    "select_incident_ids = IPIVOA2[(IPIVOA2['NOFFENDERS']==2) & (IPIVOA2['RECIPROCATED']=='Yes')]['INCIDENT_ID'].unique()\n",
    "n = len(select_incident_ids)\n",
    "start_time = time.time()\n",
    "for i, INCIDENT_ID in enumerate(select_incident_ids):\n",
    "    printprogress(i,n,start_time)\n",
    "    IPIVOA2.loc[IPIVOA2['INCIDENT_ID']==INCIDENT_ID, 'INCLUDE'] = 'Yes'"
   ]
  },
  {
   "cell_type": "markdown",
   "metadata": {},
   "source": [
    "New data subset:"
   ]
  },
  {
   "cell_type": "code",
   "execution_count": 110,
   "metadata": {},
   "outputs": [
    {
     "name": "stdout",
     "output_type": "stream",
     "text": [
      "length of previous dataframe:  82597\n",
      "no. of incidents in previous dataframe:  65433\n",
      "length of new dataframe:  77209\n",
      "no. of incidents in new dataframe:  63800\n"
     ]
    }
   ],
   "source": [
    "IPIVOA3 = IPIVOA2[IPIVOA2['INCLUDE']=='Yes']\n",
    "print(\"length of previous dataframe: \", len(IPIVOA2))\n",
    "print(\"no. of incidents in previous dataframe: \", len(IPIVOA2['INCIDENT_ID'].unique()))\n",
    "print(\"length of new dataframe: \", len(IPIVOA3))\n",
    "print(\"no. of incidents in new dataframe: \", len(IPIVOA3['INCIDENT_ID'].unique()))"
   ]
  },
  {
   "cell_type": "markdown",
   "metadata": {},
   "source": [
    "The number of incidents with one or two offenders:"
   ]
  },
  {
   "cell_type": "code",
   "execution_count": 111,
   "metadata": {},
   "outputs": [
    {
     "data": {
      "text/plain": [
       "1    62034\n",
       "2     1766\n",
       "Name: NOFFENDERS, dtype: int64"
      ]
     },
     "execution_count": 111,
     "metadata": {},
     "output_type": "execute_result"
    }
   ],
   "source": [
    "IPIVOA3[['INCIDENT_ID', 'NOFFENDERS']].drop_duplicates()['NOFFENDERS'].value_counts()"
   ]
  },
  {
   "cell_type": "markdown",
   "metadata": {},
   "source": [
    "<br><br>"
   ]
  },
  {
   "cell_type": "code",
   "execution_count": 163,
   "metadata": {},
   "outputs": [
    {
     "name": "stdout",
     "output_type": "stream",
     "text": [
      " Notebook run time -- 41 minutes 43.105246 seconds\n"
     ]
    }
   ],
   "source": [
    "total_run_time = time.time() - global_start_time\n",
    "print(\" Notebook run time -- %d minutes %f seconds\"%(math.floor(total_run_time/60),total_run_time%60))"
   ]
  },
  {
   "cell_type": "code",
   "execution_count": 164,
   "metadata": {},
   "outputs": [
    {
     "data": {
      "text/plain": [
       "'3.8.5'"
      ]
     },
     "execution_count": 164,
     "metadata": {},
     "output_type": "execute_result"
    }
   ],
   "source": [
    "from platform import python_version\n",
    "\n",
    "python_version()"
   ]
  }
 ],
 "metadata": {
  "kernelspec": {
   "display_name": "Python 3 (ipykernel)",
   "language": "python",
   "name": "python3"
  },
  "language_info": {
   "codemirror_mode": {
    "name": "ipython",
    "version": 3
   },
   "file_extension": ".py",
   "mimetype": "text/x-python",
   "name": "python",
   "nbconvert_exporter": "python",
   "pygments_lexer": "ipython3",
   "version": "3.9.7"
  }
 },
 "nbformat": 4,
 "nbformat_minor": 4
}
